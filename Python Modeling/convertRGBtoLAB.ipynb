{
 "cells": [
  {
   "cell_type": "code",
   "execution_count": 1,
   "metadata": {
    "scrolled": true
   },
   "outputs": [
    {
     "name": "stdout",
     "output_type": "stream",
     "text": [
      "Collecting colormath\n",
      "  Downloading colormath-3.0.0.tar.gz (39 kB)\n",
      "Requirement already satisfied: numpy in c:\\users\\ict01_03\\anaconda3\\envs\\venv\\lib\\site-packages (from colormath) (1.16.3)\n",
      "Requirement already satisfied: networkx>=2.0 in c:\\users\\ict01_03\\anaconda3\\envs\\venv\\lib\\site-packages (from colormath) (2.4)\n",
      "Requirement already satisfied: decorator>=4.3.0 in c:\\users\\ict01_03\\anaconda3\\envs\\venv\\lib\\site-packages (from networkx>=2.0->colormath) (4.4.1)\n",
      "Building wheels for collected packages: colormath\n",
      "  Building wheel for colormath (setup.py): started\n",
      "  Building wheel for colormath (setup.py): finished with status 'done'\n",
      "  Created wheel for colormath: filename=colormath-3.0.0-py3-none-any.whl size=39392 sha256=05f948f199bbeffea4c0e7242bec353f617728e61201f6df20bdf2c852d5ca71\n",
      "  Stored in directory: c:\\users\\ict01_03\\appdata\\local\\pip\\cache\\wheels\\ef\\01\\8a\\75276fba001a7f0c94a243816973bc9f569475d8174f74377d\n",
      "Successfully built colormath\n",
      "Installing collected packages: colormath\n",
      "Successfully installed colormath-3.0.0\n"
     ]
    }
   ],
   "source": [
    "!pip install colormath "
   ]
  },
  {
   "cell_type": "code",
   "execution_count": 83,
   "metadata": {},
   "outputs": [
    {
     "data": {
      "text/plain": [
       "227"
      ]
     },
     "execution_count": 83,
     "metadata": {},
     "output_type": "execute_result"
    }
   ],
   "source": [
    "estee_coolRGB = np.array([[227,184,151], [235,195,158], [205,151,117], [228,177,113], [221,164,110], [221,178,149], [193,152,109], [216,157,116], [207,162,145], [191,142,93]])\n",
    "estee_warmRGB = np.array([[238,198,164], [242,200,173], [234,187,139], [222,172,114], [202,148,87], [208,159,98], [212,162,101], [211,153,88], [212,160,102]])"
   ]
  },
  {
   "cell_type": "code",
   "execution_count": 84,
   "metadata": {},
   "outputs": [],
   "source": [
    "from colormath.color_objects import LabColor, sRGBColor \n",
    "from colormath.color_conversions import convert_color\n",
    "import numpy as np\n",
    "\n",
    "# RGB 컬러값을 LAB 컬러값으로 바꾸는 함수\n",
    "def rgb2lab ( inputColor ) :\n",
    "\n",
    "   num = 0\n",
    "   RGB = [0, 0, 0]\n",
    "\n",
    "   for value in inputColor :\n",
    "       value = float(value) / 255\n",
    "\n",
    "       if value > 0.04045 :\n",
    "           value = ( ( value + 0.055 ) / 1.055 ) ** 2.4\n",
    "       else :\n",
    "           value = value / 12.92\n",
    "\n",
    "       RGB[num] = value * 100\n",
    "       num = num + 1\n",
    "\n",
    "   XYZ = [0, 0, 0,]\n",
    "\n",
    "   X = RGB [0] * 0.4124 + RGB [1] * 0.3576 + RGB [2] * 0.1805\n",
    "   Y = RGB [0] * 0.2126 + RGB [1] * 0.7152 + RGB [2] * 0.0722\n",
    "   Z = RGB [0] * 0.0193 + RGB [1] * 0.1192 + RGB [2] * 0.9505\n",
    "   XYZ[ 0 ] = round( X, 4 )\n",
    "   XYZ[ 1 ] = round( Y, 4 )\n",
    "   XYZ[ 2 ] = round( Z, 4 )\n",
    "\n",
    "   XYZ[ 0 ] = float( XYZ[ 0 ] ) / 95.047         # ref_X =  95.047   Observer= 2°, Illuminant= D65\n",
    "   XYZ[ 1 ] = float( XYZ[ 1 ] ) / 100.0          # ref_Y = 100.000\n",
    "   XYZ[ 2 ] = float( XYZ[ 2 ] ) / 108.883        # ref_Z = 108.883\n",
    "\n",
    "   num = 0\n",
    "   for value in XYZ :\n",
    "\n",
    "       if value > 0.008856 :\n",
    "           value = value ** ( 0.3333333333333333 )\n",
    "       else :\n",
    "           value = ( 7.787 * value ) + ( 16 / 116 )\n",
    "\n",
    "       XYZ[num] = value\n",
    "       num = num + 1\n",
    "\n",
    "   Lab = [0, 0, 0]\n",
    "\n",
    "   L = ( 116 * XYZ[ 1 ] ) - 16\n",
    "   a = 500 * ( XYZ[ 0 ] - XYZ[ 1 ] )\n",
    "   b = 200 * ( XYZ[ 1 ] - XYZ[ 2 ] )\n",
    "\n",
    "   Lab [ 0 ] = round( L, 4 )\n",
    "   Lab [ 1 ] = round( a, 4 )\n",
    "   Lab [ 2 ] = round( b, 4 )\n",
    "\n",
    "   return Lab\n",
    "\n",
    "# RGB값이 담긴 넘파이 array를 통째로 LAB값으로 바꾸기\n",
    "def npRGB2LAB(nparray):\n",
    "    newarray = []\n",
    "    for i in range(len(nparray)):\n",
    "        newarray.append(rgb2lab((nparray[i,0], nparray[i,1], nparray[i,2])))\n",
    "    print(np.around(newarray))\n",
    "\n",
    "# RGB값이 담긴 리스트를 통째로 LAB값으로 바꾸기\n",
    "def listRGB2LAB(RGBlist):\n",
    "    newlist = []\n",
    "    for i in range(len(RGBlist)):\n",
    "        newlist.append(rgb2lab([RGBlist[i,0], RGBlist[i,1], RGBlist[i,2]]))\n",
    "    return np.round(newlist,0)"
   ]
  },
  {
   "cell_type": "code",
   "execution_count": 88,
   "metadata": {
    "scrolled": true
   },
   "outputs": [
    {
     "name": "stdout",
     "output_type": "stream",
     "text": [
      "<class 'numpy.ndarray'>\n"
     ]
    },
    {
     "data": {
      "text/plain": [
       "array([[83.,  9., 22.],\n",
       "       [84., 11., 19.],\n",
       "       [79., 11., 31.],\n",
       "       [74., 11., 37.],\n",
       "       [65., 14., 40.],\n",
       "       [69., 11., 39.],\n",
       "       [70., 11., 39.],\n",
       "       [68., 15., 42.],\n",
       "       [70., 12., 38.]])"
      ]
     },
     "execution_count": 88,
     "metadata": {},
     "output_type": "execute_result"
    }
   ],
   "source": [
    "estee_coolRGB = np.array([[227,184,151], [235,195,158], [205,151,117], [228,177,113], [221,164,110], [221,178,149], [193,152,109], [216,157,116], [207,162,145], [191,142,93]])\n",
    "estee_warmRGB = np.array([[238,198,164], [242,200,173], [234,187,139], [222,172,114], [202,148,87], [208,159,98], [212,162,101], [211,153,88], [212,160,102]])\n",
    "\n",
    "print(type(listRGB2LAB(estee_coolRGB)))\n",
    "listRGB2LAB(estee_warmRGB)\n",
    "# estee_coolRGB"
   ]
  },
  {
   "cell_type": "code",
   "execution_count": 105,
   "metadata": {
    "scrolled": false
   },
   "outputs": [
    {
     "name": "stdout",
     "output_type": "stream",
     "text": [
      "[[78. 11. 23.]\n",
      " [81.  9. 24.]\n",
      " [67. 16. 26.]\n",
      " [76. 11. 40.]\n",
      " [72. 15. 36.]\n",
      " [76. 12. 21.]\n",
      " [66. 10. 28.]\n",
      " [69. 17. 30.]\n",
      " [70. 14. 15.]\n",
      " [63. 13. 33.]]\n"
     ]
    }
   ],
   "source": [
    "npRGB2LAB(estee_coolRGB)"
   ]
  },
  {
   "cell_type": "code",
   "execution_count": 36,
   "metadata": {},
   "outputs": [],
   "source": [
    "estee_coolRGB = np.array([[227,184,151], [235,195,158], [205,151,117], [228,177,113], [221,164,110], [221,178,149], [193,152,109], [216,157,116], [207,162,145], [191,142,93]])\n",
    "estee_warmRGB = np.array([[238,198,164], [242,200,173], [234,187,139], [222,172,114], [202,148,87], [208,159,98], [212,162,101], [211,153,88], [212,160,102]])\n",
    "\n",
    "estee_cool =[]\n",
    "for i in range(10):\n",
    "    \n",
    "    estee_cool.append(rgb2lab((estee_coolRGB[i,0], estee_coolRGB[i,1], estee_coolRGB[i,2])))\n"
   ]
  },
  {
   "cell_type": "code",
   "execution_count": 106,
   "metadata": {},
   "outputs": [
    {
     "name": "stdout",
     "output_type": "stream",
     "text": [
      "LabColor (lab_l:82.5073 lab_a:5.3417 lab_b:8.9143)\n"
     ]
    }
   ],
   "source": [
    "rgb = sRGBColor(222.5, 201.4, 188.9, is_upscaled=True)\n",
    "lab = convert_color(rgb, LabColor, through_rgb_type=sRGBColor) \n",
    "print(lab)\n"
   ]
  },
  {
   "cell_type": "code",
   "execution_count": null,
   "metadata": {},
   "outputs": [],
   "source": [
    "# 에스티로더 웜톤 쿨톤 색상 참조\n",
    "\n",
    "# 10개\n",
    "estee_coolRGB = [[227,184,151], [235,195,158], [205,151,117], [228,177,113], [221,164,110], [221,178,149], [193,152,109], [216,157,116], [207,162,145], [191,142,93]]\n",
    "\n",
    "# 9개\n",
    "estee_warmRGB = [[238,198,164], [242,200,173], [234,187,139], [222,172,114], [202,148,87], [208,159,98], [212,162,101], [211,153,88], [212,160,102]]\n"
   ]
  },
  {
   "cell_type": "code",
   "execution_count": null,
   "metadata": {},
   "outputs": [],
   "source": [
    "# 기타 회사 파운데이션 RGB 컬러\n",
    "더페이스샵 - 잉크래스팅 파운데이션 슬림핏 이엑스\n",
    "\n",
    "쿨톤 : [236,207,191], [230,185,166], [220,165,143]\n",
    "웜톤 : [228,193,165], [208,166,142]\n",
    "\n",
    "에스쁘아 - 프로 테일러 파운데이션 비실크 SPF34 PA++\n",
    "쿨톤 : C(P-핑크베이스) : [238,221,203], [246,220,203], [238,204,177], [235,189,156]\n",
    "웜톤 : W(Y-옐로베이스): [251,232,202], [232,206,173], [233,207,174], [237,195,153]\n",
    "\n",
    "* 구별 못 하겠는 거 : 허니[215,177,144], 딥[222,163,117]\n",
    "\n",
    "에뛰드하우스 - 더블래스팅 파운데이션 NEW SPF42/PA++\n",
    "쿨톤 : [253,223,198], [247,206,176], [243,200,168]\n",
    "웜톤 : [254,218,176], [236,194,146], [236,181,125]"
   ]
  },
  {
   "cell_type": "code",
   "execution_count": null,
   "metadata": {},
   "outputs": [],
   "source": []
  }
 ],
 "metadata": {
  "kernelspec": {
   "display_name": "Python 3",
   "language": "python",
   "name": "python3"
  },
  "language_info": {
   "codemirror_mode": {
    "name": "ipython",
    "version": 3
   },
   "file_extension": ".py",
   "mimetype": "text/x-python",
   "name": "python",
   "nbconvert_exporter": "python",
   "pygments_lexer": "ipython3",
   "version": "3.6.10"
  },
  "toc": {
   "base_numbering": 1,
   "nav_menu": {},
   "number_sections": true,
   "sideBar": true,
   "skip_h1_title": false,
   "title_cell": "Table of Contents",
   "title_sidebar": "Contents",
   "toc_cell": false,
   "toc_position": {},
   "toc_section_display": true,
   "toc_window_display": false
  }
 },
 "nbformat": 4,
 "nbformat_minor": 4
}
